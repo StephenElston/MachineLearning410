{
 "cells": [
  {
   "cell_type": "markdown",
   "metadata": {},
   "source": [
    "# Introduction to Deep Neural Networks. \n",
    "\n",
    "## 1.0 Overview\n",
    "\n",
    "This lesson introduces you to the basics of neural network architecture in the form of deep forward networks. This architecture is the quintessential deep neural net architecture. In this lesson you will master the following:\n",
    "\n",
    "- Why is deep learning important and how it relates to representation, learning and inference.\n",
    "- How a basic Preceptron works.\n",
    "- How to apply different types of loss functions. \n",
    "- Understand why nonlinear activation is important and why rectified linear units are a good choice.\n",
    "- How back propagation works, and how you apply the chain rule of calculus to determine gradient. \n",
    "- Understand the architectural trade-off between depth and width in deep networks.\n",
    "\n",
    "The required reading for this lesson is from **Chapter 6: Deep Forward Networks** in GBC. Specially:  \n",
    "- 6.0\n",
    "- 6.1\n",
    "- 6.2\n",
    "- 6.2.1\n",
    "- 6.2.2\n",
    "- 6.2.2.1\n",
    "- 6.2.2.2\n",
    "- 6.2.2.3\n",
    "- 6.3\n",
    "- 6.3.1\n",
    "- 6.3.2\n",
    "- 6.4\n",
    "- 6.5\n",
    "- 6.5.1\n",
    "- 6.5.2\n",
    "- 6.5.3\n",
    "- 6.5.4,\n",
    "- 6.5.5\n",
    "- 6.5.6\n",
    "- 6.5.7. "
   ]
  },
  {
   "cell_type": "markdown",
   "metadata": {},
   "source": [
    "### 1.1 Why is deep learning important?\n",
    "\n",
    "Deep learning methods are a form of **artificial intelligence (AI)** or **machine intelligence**. More sepecifically, deep learning algorithms are a type of **machine learning**. \n",
    "\n",
    "What properties does machine intelligene require? There have been many answers to this question over the history of computing. In this case, we will take a practical view, sometimes known as **weak AI**. There are three key properties an intelligent machine must have. Deep learning algorithms are one of a few classes of algorithms that can do the following, essential to machine intelligence:\n",
    "\n",
    "1. **Representaion:** An intelligent machine must be able to represent a model of the world it interacts with in a general manner. Representation is key to intelligence. Without a good representation the best learning and inference algorithms will struggle. Whereas, good represenation can greatly facilitate learning and inference. In conventional machine learing the representation is model and a set of features. The representation is limited to what the features can provide directly. Deep learning algorithms, on the other hand, learn learn complex representations from raw features. This behavior allows deep learning algorithms to approximate complex relationships. Further, the representations learned often generalize well, up to a point. \n",
    "2. **Learning:** As you likely guessed from the very name, deep learning algorithms learn from data. Whereas, conventional machine learning is focused on inference,deep learning algorithms learn both inferencce and representations. As a result, deep leaning algorithms are more complex and therefore harder to train than conventional machine learning algorithms.  \n",
    "3. **Inference:** Any machine intelligence algorithm must be able to perform inference. The inference is the result produced given new input data. To be useful, the inferences produced by a machine intelligence algorithm must **generalize** beyond the cases used for learning or training. Good generalization requires both good represenations and learning which can deal with the complexity of diverse situations. Some deep learning algorithms can approach human levels of performance in inference tasks such as recognizing objects in images or understanding natural speach. \n",
    "\n",
    "The figure below shows a highly abstracted view of machine intelligene, showing the relationship between representation, learning and inferrence. In simple terms, the represenation is learned and then used to make inferences. Errors in the inferences can be used to improve the learning of the representation.   \n",
    "\n",
    "<img src=\"Figures/MachineIntelligence.jpg\" alt=\"Drawing\" style=\"width:600px; height:300px\"/>\n",
    "\n",
    "<center>**Schematic for creating machine intelligence**</center>\n",
    "\n",
    "**That's it!** The entire rest of this course will focus on just these three points: represenation, learning and inference!"
   ]
  },
  {
   "cell_type": "markdown",
   "metadata": {},
   "source": [
    "## 2.0 Forward propagation: The representation problem\n",
    "\n",
    "To create useful neutral network we need a **representation** that has two important properties.   \n",
    "\n",
    "First, there needs to be a way to represent complex functions of the input. Without this property, nothing is gained, since there are numerous machine learning algorithms that work with simple representations. We will spend the rest of this section exploring this problem.   \n",
    "\n",
    "Second, the representation needs to be learnable. Quite obviously, no machine intelligence representation is useful if there is not a practical algorithm to learn it. We will take up this problem in another section. "
   ]
  },
  {
   "cell_type": "markdown",
   "metadata": {},
   "source": [
    "### 2.1 Linear networks\n",
    "\n",
    "Let's start with the simplest possible network. It has inputs, and an output. The output is a **afine transformation** of the input values. We say this network performs an afine transformation since there is a bias term $b$. \n",
    "\n",
    "\n",
    "<img src=\"Figures/LinearNetwork.jpg\" alt=\"Drawing\" style=\"width:400px; height:250px\"/>\n",
    "\n",
    "<center>**Figure 2.1**\n",
    "**A simple afine network**</center>\n",
    "\n",
    "This output $y$ of this network is just:\n",
    "\n",
    "$$y = f(x) = \\sum_i w_i \\cdot x_i + b$$\n",
    "\n",
    "This network performs linear regression. Being able to perform only afine transformations, it can't do anything else. \n",
    "\n",
    "This representation is certainly learnable. However, it does not gain us anything over familiar linear regression methods. "
   ]
  },
  {
   "cell_type": "markdown",
   "metadata": {},
   "source": [
    "### 2.2 The preceptron"
   ]
  },
  {
   "cell_type": "markdown",
   "metadata": {
    "collapsed": true
   },
   "source": [
    "To get started, let's have a look at a simple **preceptron** model. The perceptron was proposed by Rosenblatt (1962). He built on the earlier attempts at a neural network models by McCulloch and Pitts (1943) and Heeb (1949). The perceptron adds **nonliner activation** to the afine network. \n",
    "\n",
    "\n",
    "<img src=\"Figures/Preceptron.jpg\" alt=\"Drawing\" style=\"width:350px; height:250px\"/>\n",
    "<center>**Figure 2.2 Schematic of perceptron with nonlinear activation**</center>\n",
    "\n",
    "The output $y$ of the perceptron is given by the following:\n",
    "\n",
    "$$y = f(x) = \\sigma \\Big( \\sum_i w_i \\cdot x_i + b \\Big)$$\n",
    "\n",
    "The output of the network is now nonlinear, give the **activation function** $\\sigma(x)$. \n",
    "\n",
    "But, the preceptron is nothing more than a logistic regression classifier. The fact that the preceptron could only solve linearly separable problems was pointed out by Minsky and Papert (1969). The failure of the preceptron to learn an **exclusive or (XOR)** function is well known. See for example, Section 6.1 in GBC. \n",
    "\n",
    "Again, this representation is certainly learnable. However, as before, it does not gain us anything over well known logistic regression models."
   ]
  },
  {
   "cell_type": "markdown",
   "metadata": {},
   "source": [
    "### 2.3 Forward networks - We're gonna need a better representation!\n",
    "\n",
    "The problem with the  perceptron is one of representations. There is no way that this simple network can represent anything but a linearly separable function. To represent more complex functions, we need a more complex network. In more technical terms we need a network with greater **model capacity**. \n",
    "\n",
    "What we need is a network with layers of **hidden nodes**. The figure below shows a simple example of a neural network with one **hidden layer** with two nodes. Since every node (including inputs) is connected to every other node we call this architecture a **fully connected neural network**.\n",
    "\n",
    "\n",
    "<img src=\"Figures/Hidden.jpg\" alt=\"Drawing\" style=\"width:600px; height:350px\"/>\n",
    "<center>**Figure 2.3  \n",
    "Fully connected neural network with single hidden layer**</center>\n",
    "\n",
    "Let's walk through some aspects of these diagrams. \n",
    "\n",
    "1. The neural network is divided into three layers. The input layer, the hidden layer and the output layer. \n",
    "2. The values in the input layer are multiplied by a weight matrix, $W^1$.\n",
    "3. The nodes in the hidden layer sum their inputs and add a bias term, $b^1$. \n",
    "4. The outputs of the hidden layer nodes are multiplied by a weight vector, $W^2$.\n",
    "5. The output layer sums the inputs and adds another bias term, $b^2$."
   ]
  },
  {
   "cell_type": "markdown",
   "metadata": {},
   "source": [
    "### 2.4 Neural network architectures - Finding representations\n",
    "\n",
    "The representations achievable by neural network with just a single hidden layer  are quite powerful. In fact, Cybenko (1989) showed that such a network with an infinite number of hidden units using sigmoidal activation can approximate any arbitrary function. Hornik (1991) generalized this to apply to any activation function. We call this theorem the **universal approximation theorem**.  \n",
    "\n",
    "A universal approximation theorem may see like a really exciting development; especially if you are a machine intelligence nerd. However, one must be circumspect when viewing such a result. A representation with an infinite number of nodes cannot be learned in any practical sense. Still it is comforting to know that, at least in principle, a representation can be learned for arbitrarily complex problems. \n",
    "\n",
    "While infinitely wide networks with a single layer are unrealistic, we are not limited to one dimension. In fact, depth is typically more effective at creating complex representations rather than width in neural networks. Depth is measured by the count of hidden layers stacked one on top of the other in the network. Hence, the term deep neural networks. \n",
    "\n",
    "The Figure 2.4 below shows the results of an empirical study by Goodfellow, Shlens and Szegedy (2014) of accuracy of the network vs depth. Notice that accuracy increases rapidly with depth until about 8 layers, after which the effect is reduced. \n",
    "\n",
    "\n",
    "<img src=\"Figures/Accuracy-Layers.jpg\" alt=\"Drawing\" style=\"width:600px; height:350px\"/>\n",
    "<center>**Figure 2.4 Empirical results of accuracy vs. number of layers**  \n",
    "Diagram from Goodfellow et. al. 2014</center>\n",
    "\n",
    "Another view of the empirical study by Goodfellow et. al. is shown in Figure 2.5 below. In this case accuracy verses number of model parameters is compared for three different network architectures. The deeper network (11 layers) makes more  efficient use of the parameters in terms of improved accuracy. The number of parameters in a layer is approximately the total number of parameters divided by the number of layers. Notice that for the particular case tested convolutional neural networks are more efficient than fully-connected networks. We will discuss convolutional neural networks in a subsequent lesson. \n",
    "\n",
    "Of particular interest is the fact that the fully-connected network and the shallow convolutional neural network appear to be over-fitting as the test accuracy actually decreases as the number of parameters increases. We will discuss the significant problems of over-fitting in neural networks in a subsequent lesson. \n",
    "\n",
    "\n",
    "<img src=\"Figures/Accuracy-Parameters.jpg\" alt=\"Drawing\" style=\"width:600px; height:350px\"/>\n",
    "<center>**Figure 2.5 Empirical results of accuracy for different network architectures**  \n",
    "Diagram from Goodfellow et. al. 2014</center>\n",
    "\n",
    "**Summary:** Deep networks tend to produce better models, with less tendency to over-fit, for a given level of complexity. "
   ]
  },
  {
   "cell_type": "markdown",
   "metadata": {},
   "source": [
    "### 2.5 Computational graphs\n",
    "\n",
    "There is another way to look at neural nets, computational graphs. A computational graph breaks down the steps of a complex algorithm into steps. \n",
    "\n",
    "Computational graphs provide a way to organize complex computations in an efficient manner. Widely used computational frameworks such as Tensor Flow, CNTK, and Torch all use computational graphs. Organizing computations in a graph allows these platform to minimize memory transfers. In simple terms, the platform can look ahead in the graph and organize data and computational results so as to minimize memory transfers. As a result, such platforms can be significantly faster than, say, Python Numpy. Systems like Numpy require memory transfer before each operation, which typically take more time than the actual computation. \n",
    "\n",
    "The diagram below decomposes the single hidden layer neural network discussed in the previous section into a computational graph. \n",
    "\n",
    "\n",
    "<img src=\"Figures/CompGraph1.jpg\" alt=\"Drawing\" style=\"width:600px; height:300px\"/>\n",
    "<center>**Figure 2.6  \n",
    "Computational graph for fully connected neural network of Figure 2.3** </center>\n",
    "\n",
    "Let's walk though this graph, step by step.\n",
    "\n",
    "1. The $nX2$ weight tensor, $W^1$, is multiplied by the 1-dimensional input tensor $x \\in\\ R^n$, giving  the result $U^1 \\in\\ R^2$.\n",
    "2. The 1-dimensional bias tensor $b^1 \\in\\ R^2$ is added to $U^1$, giving $U^2 \\in\\ R^2$. \n",
    "2. The activation function $\\sigma_h(x)$ is applied to $U^2$, producing $U^3 \\in\\ R^2$\n",
    "3. The dot product between the weight tensor, $W^2 \\in\\ R^2$ and $U^3$ is computed giving $U^4 \\in\\ R^1$. \n",
    "4. The bias, $b^2 \\in\\ R^1$ is added to $U^4$ giving $U^5 \\in\\ R^1$.\n",
    "5. The output activation function $\\sigma_o(x)$ is applied to $U^4$ giving the output $Y \\in\\ R^1$.\n",
    "\n",
    "As you can see, the computational graph provides a complete specification for the single hidden layer neural network. "
   ]
  },
  {
   "cell_type": "markdown",
   "metadata": {
    "collapsed": true
   },
   "source": [
    "### 2.6 Activation functions\n",
    "\n",
    "Without a nonlinear activation function, a neural net is just an afine transformation. Afine transformations limit representation to only linearly separable functions. To create more general representations **nonlinear activation functions** are required. \n",
    "\n",
    "In present practice, four types of activation functions are generally used for fully connected networks. \n",
    "\n",
    "1. **Linear** activation is used for the output layer of regression neural networks. \n",
    "2. The **rectilinear** activation function is used for most hidden units. The rectilinear activation function is often referred to as **ReLU**.\n",
    "3. A **leaky rectilinear** activation acts like a ReLU function for positive inputs, but has a small negative bias or leakage for negative input values. The leaky ReLU activation function can improve training for some deep neural networks. \n",
    "3. The **logistic** or **sigmoid** activation function is used for binary classifiers.\n",
    "4. The **softmax** activation function is used for multi-class classifiers. \n",
    "\n",
    "Rectilinear functions are typically used as the activation function for hidden units in neural networks. The rectilinear function is defined at:\n",
    "\n",
    "$$f(x) = max(0, x)$$\n",
    "\n",
    "The rectilinear function is linear for positive responses and zero for responses less than 0.0. Notice that the derivatives of the rectilinear function are not continuous. While this might seem to be a problem, in practice, even gradient-based optimization functions work well with this activation function. \n",
    "\n",
    "The rectilinear function is plotted in the cell below:"
   ]
  },
  {
   "cell_type": "code",
   "execution_count": 1,
   "metadata": {},
   "outputs": [
    {
     "data": {
      "image/png": "[encoded data removed]",
      "text/plain": [
       "<Figure size 288x216 with 1 Axes>"
      ]
     },
     "metadata": {},
     "output_type": "display_data"
    }
   ],
   "source": [
    "%matplotlib inline\n",
    "import matplotlib.pyplot as plt\n",
    "import seaborn as sns\n",
    "## Compute the lectilinear function\n",
    "def reclu(x): return(max(0,x))\n",
    "x = [float(x)/100 for x in range(-100, 100)]\n",
    "y = [reclu(y) for y in x]\n",
    "## Plot the result\n",
    "def plot_figs(x,y,title, figsize = (4, 3)):\n",
    "    plt.figure(figsize=figsize).gca() # define axis\n",
    "    sns.set_style(\"darkgrid\")\n",
    "    plt.plot(x, y)\n",
    "    plt.ylim((-0.1,1.0))\n",
    "    plt.title(title)\n",
    "    plt.xlabel('X')\n",
    "    plt.ylabel('Y')\n",
    "plot_figs(x,y,'The Rectilinear Function')    "
   ]
  },
  {
   "cell_type": "markdown",
   "metadata": {},
   "source": [
    "Another widely used activation function is the **logistic** or **sigmoid**. The sigmoid is used as the activation for the output layer of a binary classifier. The general sigmoid function can be written as:\n",
    "\n",
    "$$\\sigma(x) = \\frac{L}{1 + e^{-k(x_0-x)}}\\\\\n",
    "where\\\\\n",
    "L = max\\ value\\\\\n",
    "k = slope\\\\\n",
    "x_0 = sigmoid\\ midpoint$$\n",
    "\n",
    "With $L=1$, $k=1$, and $x_0 = 0$, the logistic function becomes: \n",
    "\n",
    "$$\\sigma(x) = \\frac{1}{1 + e^{-x}} = \\frac{e^x}{1+e^x}$$\n",
    "\n",
    "The sigmoid function can asymptotically approach $0$ or $1$, but will never reach these extreme values. However, because of the rapid decrease in the derivative away from $0$ the sigmoid can **saturate** when using gradient-based training. For this reason, the sigmoid is typically not used for hidden layers in neural networks.   \n",
    "\n",
    "When used in a the binary classifier a threshold is set to determine if the result is $0$ or $1$. The threshold can be adjusted to bias the result as desired. \n",
    "\n",
    "The code in the cell below plots the sigmoid function. "
   ]
  },
  {
   "cell_type": "code",
   "execution_count": null,
   "metadata": {
    "scrolled": true
   },
   "outputs": [],
   "source": [
    "from math import exp\n",
    "def sigmoid(x): return exp(x)/(1 + exp(x))\n",
    "x = [float(x)/100 for x in range(-700, 700)]\n",
    "y = [sigmoid(y) for y in x]\n",
    "plot_figs(x,y,'The Logistic Function', figsize = (5,3))    "
   ]
  },
  {
   "cell_type": "markdown",
   "metadata": {
    "collapsed": true
   },
   "source": [
    "The **softmax** function or **normalized exponential function** is used for the output activation function of a multi-class classifiers. The softmax function is the multinomial generalization of the sigmoid or logistic function. The probability of each class $j$ is written as: \n",
    "\n",
    "$$\\sigma(z_j) = \\frac{e^{z_j}}{\\sum_{k=1}^K e^{z_k}}$$\n",
    "\n",
    "The normalization $\\sum_{k=1}^K e^{z_k}$ ensures the sum of probabilities for all classes add to $1.0$. The class selected by the classifier is the class with the largest value of $\\sigma(z_j)$."
   ]
  },
  {
   "cell_type": "markdown",
   "metadata": {},
   "source": [
    "### 2.7 Computational example\n",
    "\n",
    "Now that we have gone though some basic theory for feed-forward networks, let's try a simple example. We will construct a fully connected network to compute this simple function:\n",
    "\n",
    "$$y = x_1 - x_2$$\n",
    "\n",
    "****\n",
    "**Comment.** You have likely have noticed that this function is linear and can be computed easily without a neural network. Of course, that is not the point. We use a simple function to make the results easy to understand. \n",
    "****\n",
    "\n",
    "****\n",
    "**Note.** The neural network for this example does not require any bias terms. \n",
    "****\n",
    "\n",
    "As a first step, we will create test data for 3 cases; $x_1 > x_2$, $x_1 = x_2$, and $x_1 <x_2$"
   ]
  },
  {
   "cell_type": "code",
   "execution_count": 2,
   "metadata": {},
   "outputs": [
    {
     "name": "stdout",
     "output_type": "stream",
     "text": [
      "1\n",
      "0\n",
      "-1\n"
     ]
    }
   ],
   "source": [
    "x = [(2,1), (1,1), (1,2)]\n",
    "for x_in in x:\n",
    "    print(x_in[0] - x_in[1])"
   ]
  },
  {
   "cell_type": "markdown",
   "metadata": {},
   "source": [
    "Now that we have our test data and test cases we can move to the next step. We will create the first weight matrix."
   ]
  },
  {
   "cell_type": "code",
   "execution_count": 3,
   "metadata": {},
   "outputs": [
    {
     "name": "stdout",
     "output_type": "stream",
     "text": [
      "[[ 1. -1.]\n",
      " [-1.  1.]]\n"
     ]
    }
   ],
   "source": [
    "import numpy as np\n",
    "W_1 = np.array([[1.0, -1.0], [-1.0, 1.0]])\n",
    "print(W_1)"
   ]
  },
  {
   "cell_type": "markdown",
   "metadata": {},
   "source": [
    "We also need the weight vector, for the second set of weights. "
   ]
  },
  {
   "cell_type": "code",
   "execution_count": 4,
   "metadata": {},
   "outputs": [
    {
     "name": "stdout",
     "output_type": "stream",
     "text": [
      "[ 1 -1]\n"
     ]
    }
   ],
   "source": [
    "W_2 = np.array([1, -1])\n",
    "print(W_2)"
   ]
  },
  {
   "cell_type": "markdown",
   "metadata": {},
   "source": [
    "We have the input cases and the network weights. \n",
    "\n",
    "Now, it is time to compute the results and check them. To create the computational process we will follow the graph in Figure 2.6. This particular case is simplified as there are no bias terms. \n",
    "\n",
    "The code in the cell below performs the feed forward network computation. The first function computes the matrix product of the weights with the input vector and applies a rectilinear activation function. This function computes the output of the hidden layer given the input vector. \n",
    "\n",
    "$$h = \\sigma(W^1 \\cdot x)$$\n",
    "\n",
    "The second function computes the vector product of the weight vector with the output vector of the hidden layer which is the output of the network: \n",
    "\n",
    "$$o = W^2 \\cdot h$$"
   ]
  },
  {
   "cell_type": "code",
   "execution_count": 5,
   "metadata": {},
   "outputs": [
    {
     "name": "stdout",
     "output_type": "stream",
     "text": [
      "1.0\n",
      "0\n",
      "-1.0\n"
     ]
    }
   ],
   "source": [
    "def hidden(x, W):\n",
    "    \"\"\"Computes the output of the hidden layer\"\"\"\n",
    "    h = np.dot(W, x) # product of weights and input vector\n",
    "    return np.array([reclu(x) for x in h]) # apply activation function and return\n",
    "\n",
    "def output(h, W):\n",
    "    \"\"\"Computes the result for the hidden layer\"\"\"\n",
    "    return np.dot(W, h) # dot product of weight vector and input vector\n",
    "    \n",
    "## Run the test cases and check the results     \n",
    "for y in x:\n",
    "        h = hidden(y, W_1)\n",
    "        print(output(h, W_2))"
   ]
  },
  {
   "cell_type": "markdown",
   "metadata": {},
   "source": [
    "Our first fully connected neural network passed all the tests!\n",
    "\n",
    "Notice that even a network to compute a simple function requires 6 weights. You can see that for more complex functions any practical algorithm must learn a large number of weights. The limitations of Numpy would quickly become evident for large scale problems involving hundreds of millions of weights. \n",
    "\n",
    "****\n",
    "**Note:** If you are having difficulty following the Numpy code in the above example, you might want to look at [Scott Shell's Numpy Tutorial](https://engineering.ucsb.edu/~shell/che210d/numpy.pdf)\n",
    "****"
   ]
  },
  {
   "cell_type": "markdown",
   "metadata": {},
   "source": [
    "## 3.0 Learning in neural networks: Backpropagation\n",
    "\n",
    "Now that we have a promising representation, we need to determine if it is trainable. The answer is not only yes we can, but that we can do so in a computationally efficient manner, using a cleaver algorithm known as **backpropagation**. \n",
    "\n",
    "The backpropagation algorithm was developed independently multiple times. The earliest work on this algorithm was by Kelly (1960) in the context of control theory and Bryson (1961) in the context of dynamic programming. Rumelhart, Hinton and Williams (1984) demonstrated empirically that backpropagation can be used to train neural networks. Their paper marks the modern history of neural networks, and set off the first wave of enthusiasm. \n",
    "\n",
    "The backpropagation algorithm requires several components. First, we need a **loss function** to measure how well our representation matches the function we are trying to learn. Second, we need a way to propagate changes in the representation through the complex network For this we will use the **chain rule of calculus** to compute **gradients** of the representation. In the general case, this process requires using automatic differentiation methods. \n",
    "\n",
    "The point of backpropagration is to learn the optimal weight for the neural network. The algorithm proceeds iteratively through a series of small steps. Once we have the gradient of the loss function we can update the tensor of weights.\n",
    "\n",
    "$$W_{t+1} = W_t + \\alpha \\nabla_{W} J(W_t) $$  \n",
    "where  \n",
    "$W_t = $ the tensor of weights or model parameters at step $t$.   \n",
    "$\\alpha\\ = $ step size or learning rate.  \n",
    "$J(W) = $ loss function given the weights.  \n",
    "$\\nabla_{W} J(W) = $ gradient of $J$ with respect to the weights $W$.  \n",
    "\n",
    "It should be evident that the back propagation algorithm is a form of gradient decent. The weights are updated in small steps following the gradient of $J(W)$ down hill. \n",
    "\n",
    "Finally, we need a way evaluate the performance of the model. Without evaluation metrics we have no way to compare the performance of a given model, or compare the performance of severa models. \n",
    "\n",
    "In the next sections, we will address each of loss functions, gradient computation and performance measurement. "
   ]
  },
  {
   "cell_type": "markdown",
   "metadata": {},
   "source": [
    "### 3.1 Loss functions\n",
    "\n",
    "To train a neural network we must have a **loss function**, also known as a **cost function**. In simple terms, the loss function measures the fit of a model to the training data. The lower the loss, the better the fit. \n",
    "\n",
    "To train deep learning models **cross entropy** is often used as a loss function. This is an information theoretic measure of model fit. We can understand cross entropy as follows. \n",
    "\n",
    "First define **Shannon entropy** as:\n",
    "\n",
    "$$\\mathbb{H}(I) = E[I(X)] = E[-ln_b(P(X))] = - \\sum_{i=1}^n P(x_i) ln_b(P(x_i)$$  \n",
    "Where:  \n",
    "$E[X] = $ the expectation of $X$.  \n",
    "$I(X) = $ the information content of $X$.   \n",
    "$P(X) = $ probability of $X$.  \n",
    "$b = $ base of the logarithm.    \n",
    "\n",
    "This rather abstract formula gives us a way to compute the expected information content of a set of values $X$. The more likely (higher probability) of $X$ the less informative it is. \n",
    "\n",
    "To create a loss function from the definition of Shannon entropy we start with the **Kullback-Leibler divergence (KL divergence)** or **relative entropy**. The KL divergence is an information theoretic measure of the difference between two distributions, $P(X)$ and $Q(X)$.\n",
    "\n",
    "$$\\mathbb{D}_{KL}(P \\parallel Q) = - \\sum_{i=1}^n p(x_i)\\ ln_b \\frac{p(x_i)}{q(x_i)}$$\n",
    "\n",
    "Ideally, in the case of training a machine learning model we want a distribution $Q(X)$, which is identical to the actual data distribution $P(X)$. \n",
    "\n",
    "But, you may say, if we could know $P(X)$ why compute $Q(X)$ at all? Fortunately, we do not have to. We can rewrite the KL divergence as:\n",
    "\n",
    "$$\\mathbb{D}_{KL}(P \\parallel Q) = \\sum_{i=1}^n p(x_i)\\ ln_b p(x_i) - \\sum_{i=1}^n p(x_i)\\ ln_b q(x_i)$$\n",
    "\n",
    "Since $P(X)$ is fixed and we wish to find $Q(X)$ when we train our model, we can minimize the term on the right, which is the **cross entropy** defined as:\n",
    "\n",
    "$$\\mathbb{H}(P,Q) = - \\sum_{i=1}^n p(x_i)\\ ln_b q(x_i)$$\n",
    "\n",
    "From the formulation of KL divergence above you can see the following.\n",
    "\n",
    "$$\\mathbb{D}_{KL}(P \\parallel Q) = \\mathbb{H}(P) + \\mathbb{H}(P,Q)\\\\\n",
    "\\mathbb{D}_{KL}(P \\parallel Q) = Entropy(P) + Cross\\ Entropy(P,Q)$$\n",
    "\n",
    "Thus, we can minimize divergence by minimizing cross entropy. This idea is both intuitive and computationally attractive. The closer the estimated distribution $q(X)$ is to the distribution of the true underling process $p(X)$, the lower the cross entropy and the lower the KL divergence. \n",
    "\n",
    "In general we will not know $p(X)$. In fact, if we did, why would we need to solve a training problem? So, we can use the following approximation.\n",
    "\n",
    "$$\\mathbb{H}(P,Q) = - \\frac{1}{N} \\sum_{i=1}^n ln_b q(x_i)$$\n",
    "\n",
    "You may notice, that this approximation, using the average log likelihood, is equivalent to a maximum likelihood estimator (MLE). "
   ]
  },
  {
   "cell_type": "markdown",
   "metadata": {},
   "source": [
    "Let's look at a specific case of a model with Gaussian likelihood. What is the cross entropy? We can start by thinking about the definition of likelihood. \n",
    "\n",
    "$$p(data|model) = p(data|f(\\theta)) = p(x_i|f(\\hat{\\mu},\\sigma))= \\frac{1}{2 \\pi \\sigma^2} e^{\\frac{-(x_i - \\hat{\\mu})^2}{2 \\sigma^2}}$$\n",
    "\n",
    "We take the negative logarithm of this likelihood model. \n",
    "\n",
    "$$-log\\big(p(data|model) \\big) = - \\frac{1}{2}\\big( log( 2 \\pi \\sigma^2) + \\frac{(x_i - \\hat{\\mu})^2}{2 \\sigma^2} \\big)$$\n",
    "\n",
    "Now, the first term on the right is a constant, as is the denominator of the second term if we assume known variance. Since our goal is to minimize cross entropy, we can eliminate these quantities and be left with just the following.\n",
    "\n",
    "$$-(x_i - \\hat{\\mu})^2$$\n",
    "\n",
    "This is one issue we need to deal with. Our formulation of cross entropy involves the unknown true distribution of the underling process $p(X)$. However, since $p(x_i)$ is fixed but unknown we can just write the following.\n",
    "\n",
    "$$min \\big( \\mathbb{H}(P,Q) \\big) \\propto argmin_{\\mu} \\big( - \\sum_{i=1}^n (x_i - \\hat{\\mu})^2 \\big)$$\n",
    "\n",
    "This is just the definition of a Maximum Likelihood Estimator (MLE) for the least squares problem! In fact, since the cross entropy is computed using the negative log likelihood, it will always be minimized by the MLE. \n",
    "\n",
    "You can see another example of [cross-entropy error function and logistic regression](https://en.wikipedia.org/wiki/Cross_entropy)."
   ]
  },
  {
   "cell_type": "markdown",
   "metadata": {
    "collapsed": true
   },
   "source": [
    "### 3.2 Computing Loss functions\n",
    "\n",
    "The loss function is used to train the model. Therefore the loss functon must be computed in an efficient manner. \n",
    "\n",
    "Given the number of parameters in deep neural nets over-fitting is inevitable. Therefore some regularization is required. We will discuss regularization in greater depth in another lesson. For now, we will just use the following regularized form.\n",
    "\n",
    "$$\\mathbb{H}(P,Q) = J(\\theta) = - \\frac{1}{N}\\sum_{i=1}^n ln_b q(x_i|\\theta) + \\lambda ||\\theta||^2\\\\ \n",
    "where\\\\\n",
    "- \\frac{1}{N}\\sum_{i=1}^n ln_b q(x_i|\\theta) = J_{MLE}(\\theta)\\\\\n",
    "||\\theta||^2 = L^2\\ norm\\ regularization\\ term$$\n",
    "\n",
    "To minimize $J(\\theta)$ in this form $\\theta$ must be chosen to keep $||\\theta||^2$ small while minimizing the negative log likelihood of $q(x_i|\\theta)$.\n",
    "\n",
    "Let's  consider how we would compute this form of the lost function. The compuational graph shown below illustrates the compuational path for the reqularized loss function. For simplicity, no bias terms are considered.\n",
    "\n",
    "<img src=\"Figures/CompGraph1.jpg\" alt=\"Drawing\" style=\"width:600px; height:300px\"/>\n",
    "<center>**Figure 3.1  \n",
    "Computional graph for computing loss of fully connected neural network of Figure 2.3** </center>\n",
    "\n",
    "\n"
   ]
  },
  {
   "cell_type": "markdown",
   "metadata": {},
   "source": [
    "### 3.3 Chain rule of calculus\n",
    "\n",
    "Key to the back propagation algorithm is the chain rule of calculus; not to be confused with the chain rule of probability. The chain rule allows us to back propagate gradients though an arbitrarily complex graph of functions. \n",
    "\n",
    "Now, suppose there is a function $y = g(x)$, and another function $z = f(y) = f(g(x))$. How do we compute the derivative of $z$ with respect to $x$? Applying the chain rule we get: \n",
    "\n",
    "$$\\frac{dz}{dx} = \\frac{dz}{dy}\\frac{dy}{dx}$$\n",
    "\n",
    "Consider $x \\in R^M$ $g(x) \\Rightarrow R^M$ and $ f(y) \\Rightarrow z \\in R$. The chain rule becomes:\n",
    "\n",
    "$$\\frac{\\partial z}{\\partial x} = \\sum_{j \\in M} \\frac{\\partial z}{\\partial y_j}\\frac{\\partial y_j}{\\partial x_i}$$\n",
    "\n",
    "Which we can rewrite as  \n",
    "\n",
    "$$\\nabla_{x}z = \\Big( \\frac{\\partial x}{\\partial y} \\Big)^T \\nabla_{y}z$$"
   ]
  },
  {
   "cell_type": "markdown",
   "metadata": {},
   "source": [
    "Here, $\\frac{\\partial x}{\\partial y}$ is the $n x m$ **Jacobian matrix** of partial derivatives. The Jacobian is multiplied by the gradient with respect to $y$, $\\nabla_{y}z$. You can think of the Jacobian as a transformation for a gradient with respect to $y$ to what we really want, the gradient with respect to $z$."
   ]
  },
  {
   "cell_type": "markdown",
   "metadata": {},
   "source": [
    "### 3.4 Example of finding a gradient. \n",
    "\n",
    "Let's work out backpropagation for a very simple neural network with a just an input layer and an output layer. This neural network, including the loss function, is shown in Figure 3.2 below. This network has been highly simplified. There are only three layers, input layer, a two unit hidden layer with no bias terms, and a single unit output layer. There are only two weight tensors for this network. Further, the hidden units use rectilinear activation and the output unit uses linear activation. These activation functions have simple partial derivatives.  \n",
    "\n",
    "<img src=\"Figures/LossGraph.jpg\" alt=\"Drawing\" style=\"width:600px; height:300px\"/>\n",
    "<center>**Figure 3.2 \n",
    "Simple single layer neural network with loss function** </center>\n",
    "\n",
    "To analyze this network we will refer to the computational graph shown in Figure 3.1 above. \n",
    "\n",
    "We can compute the outputs of the hidden layer as follows.\n",
    "\n",
    "$$S_{\\{1,2\\}} = \\sigma_h \\big( W^1 \\cdot X \\big)$$  \n",
    "\n",
    "In the same way, the result from the output layer can be computed as follows, since the activation function for this layer is linear. \n",
    "\n",
    "$$S_3 = W^2 \\cdot S_{\\{1,2\\}}$$\n",
    "\n",
    "To keep things simple in this example we will just use a non-normalized squared error loss function. This is just the MLE estimator for a Gaussian distribution. \n",
    "\n",
    "$$J(W) = - \\frac{1}{N} \\sum_{i=1}^n (y_i - \\hat{y_i})^2 $$\n",
    "\n",
    "$$J(W) = - \\frac{1}{N} \\sum_{k=1}^n (S_{3,k} - \\hat{y_k})^2 $$\n",
    "\n",
    "Where:  \n",
    "$y_k = $ the label for the kth case.     \n",
    "$\\hat{y_k} = S_{3,k} =$ the output of the network for the kth case. "
   ]
  },
  {
   "cell_type": "markdown",
   "metadata": {},
   "source": [
    "To perform backpropagation, we need to work out $\\frac{\\partial J(W)}{\\partial W}$ to fill out the Jacobian matrix. With the elements of the Jacobian matrix we can then find the gradient with respect to the weights.  \n",
    "\n",
    "$$\\frac{\\partial J(W)}{\\partial W} = \n",
    "\\begin{bmatrix} \n",
    "\\frac{\\partial J(W)}{\\partial W^2_{11}} \\\\\n",
    "\\frac{\\partial J(W)}{\\partial W^2_{12}} \\\\\n",
    "\\frac{\\partial J(W)}{\\partial W^2_{21}} \\\\\n",
    "\\frac{\\partial J(W)}{\\partial W^2_{22}} \\\\\n",
    "\\frac{\\partial J(W)}{\\partial W^1_{1}} \\\\\n",
    "\\frac{\\partial J(W)}{\\partial W^1_{2}}\n",
    "\\end{bmatrix}$$"
   ]
  },
  {
   "cell_type": "markdown",
   "metadata": {},
   "source": [
    "Given the simple network, it is not too hard to work out the partial derivatives of the gradient. As first example we can work out the partial derivatives with respect to the output layers with linear activation.\n",
    "\n",
    "$$\\frac{\\partial J(W)}{\\partial W^2_i} = 2(S_3 - y_i) S_i$$\n",
    "\n",
    "$$\\frac{\\partial J(W)}{\\partial W^j_i} =\\frac{\\partial J(W)}{\\partial S_3} \\frac{\\partial S_3}{\\partial W^j_i}$$\n",
    "\n",
    "$$\\frac{\\partial J(W)}{\\partial S_3} = \\frac{-\\partial \\big( \\frac{1}{N} \\sum_{i=1}^n (S_3 - y_i)^2 \\Big)}{\\partial S_3} = - \\frac{2}{N} \\sum_{i=1}^n (S_3 - y_i)$$\n",
    "\n",
    "\n",
    "$$\\frac{\\partial J(W)}{\\partial S_i} = - \\frac{2}{N} \\sum_{i=1}^n \\big( \\sigma(\\sum_j x_j * W^2_{ij}) - \\hat{y_i} \\big)$$\n",
    "\n",
    "Next, let's compute the gradient for the input weights. The fact that,\n",
    "\n",
    "$$\\frac{\\partial S_3}{\\partial W^2_{j}} = ReLU \\big( \\sum_i x_i * W^1_{j,i} \\big)$$\n",
    "\n",
    "\\begin{equation}\n",
    "\\frac{\\partial S_3}{\\partial W^1_{j,i}} = \n",
    "\\begin{cases}\n",
    "     W^2_{j} * x_i, & \\text{if $S_i>0$}.\\\\\n",
    "    0, & \\text{otherwise}.\n",
    "  \\end{cases}\n",
    "\\end{equation}\n",
    "\n",
    "\n",
    "we apply the chain rule:\n",
    "\n",
    "$$\\frac{\\partial J(W)}{\\partial W^1_{i,j}} = \\frac{\\partial J(W)}{\\partial W^2_i} \\sigma^\\prime(S_i)$$\n",
    "\n",
    "Performing substitution for $\\sigma^\\prime(S_i)$:\n",
    "\n",
    "\\begin{equation}\n",
    "  =\\begin{cases}\n",
    "    \\frac{\\partial J(W)}{\\partial W^2_i} x_i, & \\text{if $S_i>0$}.\\\\\n",
    "    0, & \\text{otherwise}.\n",
    "  \\end{cases}\n",
    "\\end{equation}\n",
    "\n",
    "And finally, performing substitution for $\\frac{\\partial J(W)}{\\partial W^2_i}$:\n",
    "\n",
    "\\begin{equation}\n",
    "  =\\begin{cases}\n",
    "    2(S_3 - y_i) S_i \\cdot x_i, & \\text{if $S_i>0$}.\\\\\n",
    "    0, & \\text{otherwise}.\n",
    "  \\end{cases}\n",
    "\\end{equation}\n",
    "\n",
    "A more detailed, but still digestable example of computing gradients for backpropagation can be found in a blog post by [Manfred Zaharauskas](http://blog.manfredas.com/backpropagation-tutorial/), among many other places. "
   ]
  },
  {
   "cell_type": "markdown",
   "metadata": {
    "collapsed": true
   },
   "source": [
    "## 4.0 Performance Metrics\n",
    "\n",
    "Now that we have the components for traning a basic neural network in place we need a way to evaluate the performance. It turns out, there is nothing special evaluation of neural network models as opposed to other machine learning models. \n",
    "\n",
    "For regression models, one typically use the standard metrics such as root mean square error (RMSE), mean absolute error (MAE). \n",
    "\n",
    "For classification models, one also typically uses the standard metrics including the confusion matrix, accuracy, precision and recall. "
   ]
  },
  {
   "cell_type": "markdown",
   "metadata": {
    "collapsed": true
   },
   "source": [
    "##### Copyright 2018, Stephen F Elston. All rights reserved"
   ]
  }
 ],
 "metadata": {
  "anaconda-cloud": {},
  "kernelspec": {
   "display_name": "Python 3",
   "language": "python",
   "name": "python3"
  },
  "language_info": {
   "codemirror_mode": {
    "name": "ipython",
    "version": 3
   },
   "file_extension": ".py",
   "mimetype": "text/x-python",
   "name": "python",
   "nbconvert_exporter": "python",
   "pygments_lexer": "ipython3",
   "version": "3.6.4"
  }
 },
 "nbformat": 4,
 "nbformat_minor": 1
}
