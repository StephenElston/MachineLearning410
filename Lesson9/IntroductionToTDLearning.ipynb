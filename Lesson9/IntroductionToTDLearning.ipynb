{
 "cells": [
  {
   "cell_type": "markdown",
   "metadata": {},
   "source": [
    "# Introduction to TD and SARSA-Learning \n",
    "\n",
    "## CSCI E-82A\n",
    "\n",
    "## Stephen Elston\n",
    "\n",
    "\n",
    "In the previous lesson we explored Monte Carlo **reinforcement learning**. MC RL required that the returns for an entire episode be computed before any values are available for use. The disadvantage of this approach is the the full set of returns are required for state value or action value estimates. But, how can we get state values or action-values in fewer time steps? It turns out there are algorithms which compute estimates in as few as one step. In this lesson will focus on a state-value estimation algorithm known as **time difference learning** or **TD-learning** and control algorithm known as **SARSA**. \n",
    "\n",
    "Recall that reinforcement learning has several distinctive characteristics, which differentiate this method from other machine learning and dynamic programming:\n",
    "- **No Markov model** needs to be specified for reinforcement learning, in contrast to dynamic programming.\n",
    "- Like dynamic programming, reinforcement learning **optimizes a reward function**. This is in contrast to supervised and unsupervised learning which use an error or objective function.  \n",
    "- Reinforcement learning algorithms learn by **experience**. Over time, the algorithm learns a model of the environment and these results are used to optimize the expected reward. Learning from experience is in contrast to supervised learning which uses known marked cases. \n",
    "- Reinforcement learning agents take **actions** and only receive **state** and **rewards** from the environment. These are the only interaction between the RL agent and the environment.    \n",
    "\n",
    "The interaction between a reinforcement learning agent and the environment are illustrated in the figure below. Notice that the only feedback the agent receives from the environment is reward and state.   \n",
    "\n",
    "<img src=\"img/RL_AgentModel.JPG\" alt=\"Drawing\" style=\"width:500px; height:300px\"/>\n",
    "<center> **Reinforcement Learning Agent and Environment** </center>  \n",
    "\n",
    "The ability to learn from experience is an attractive concept. This method of learning seems to mimic human learning. However, reinforcement learning has proven difficult to use in real-world applications. For a review of successes and problems arising when applying RL to robotics see [Kobler et. al.](https://www.ias.informatik.tu-darmstadt.de/uploads/Publications/Kober_IJRR_2013.pdf). At the present time, RL has mostly succeeded in cases where simulations can be used to gain experience. \n",
    "\n",
    "**Suggested readings** for TD and Q reinforcement learning, Chapters 6 and 7 of Sutton and Barto, second edition, provides a good introductions, including many alternative algorithms and details not discussed here.   "
   ]
  },
  {
   "cell_type": "markdown",
   "metadata": {},
   "source": [
    "## TD Prediction Model\n",
    "\n",
    "In a previous lesson we examined a general update model:\n",
    "\n",
    "$$NewValue = OldValue + LearningRate * ErrorTerm$$\n",
    "\n",
    "Following this general formulation the update for TD state value can be written as:\n",
    "\n",
    "$$V(S_{t+1}) = V(S_t) + \\alpha \\big[ G_T - V(S_t) \\big]$$\n",
    "\n",
    "Here,   \n",
    "$\\alpha = $ the learning rate,    \n",
    "$\\big[ G_T - V(S_t) \\big] = $ the error term is the difference between the return $G_t$ and the value, $V(S_t)$. The return is identical to the value at convergence.   \n",
    "\n",
    "   \n",
    "Using the same general formulation we can create and single time step update model know as the **one step time difference** or **TD(0)** algorithm.\n",
    "\n",
    "$$V(S_{t+1}) = V(S_t) + \\alpha \\big[ R_{t+1} + V(S_{t+1}) - V(S_t) \\big]$$\n",
    "\n",
    "Where,  \n",
    "$\\delta_t =  R_{t+1} + V(S_{t+1}) - V(S_t) = $ the **TD error**,  \n",
    "$R_{t+1} = $ the return for the next time step,   \n",
    "$V(S_t) = $ is the value at time step t.   \n",
    "\n",
    "Like dynamic programming algorithms, the TD algorithm **bootstraps**. The return and estimated value at the next time step, $V(S_{t+1})$, are from previous samples. However, unlike MC RL which does not bootstrap, the TD(0) algorithm produces an estimate of $V(S_t)$ in only one time step, rather than waiting to reach the terminal state at the end of the episode. This fact can be seen by examining the backup diagram shown below:\n",
    "\n",
    "<img src=\"img/TD0.JPG\" alt=\"Drawing\" style=\"width:60px; height:150px\"/>\n",
    "<center> **Backup Diagram of TD(0)** </center>"
   ]
  },
  {
   "cell_type": "markdown",
   "metadata": {},
   "source": [
    "## Example of Time Difference RL\n",
    "\n",
    "With this short introduction TD RL in mind, let's try an example. We will sample the value function using a basic TD(0) algorithm here. \n",
    "\n",
    "As discussed in other labs, **Navigation** to a goal is a significant problem in robotics. Real-world navigation is rather complex. Therefore, in this example we will use a simple analog called a **grid world**. The grid world for this problem is shown below. \n",
    "\n",
    "<img src=\"img/GridWorld.JPG\" alt=\"Drawing\" style=\"width:200px; height:200px\"/>\n",
    "<center> **A 4x4 Grid World with Terminal State** </center>\n",
    "\n",
    "The grid world consists of a 4x4 set of positions the robot can occupy. Each position is considered a state. The goal is to navigate to state 0, the goal, in the minimum steps. We will explore methods to find policies which reach this goal and achieve maximum reward. \n",
    "\n",
    "Grid position 0 is the goal and a **terminal state**. There are no possible state transitions out of this position. The presence of a terminal state makes this an **episodic Markov random process**. For each episode sampled the robot can start in any other random position, $\\{ 1,2,3,4,5,6,7,8,9,10,11,12,13,14,15 \\}$. This random selection process makes this a **random start** TD algorithm. The episode terminates when the robot enters the terminal position (state 0).  \n",
    "\n",
    "In reality, an RL agent may need to explore to find the possible actions when it is in some particular state. To simplify our example, we encode, or represent, these possibilities in a dictionary as shown in the code block below. We use a dictionary of dictionaries to perform the lookup. The keys of the outer dictionary are the identifiers (numbers) of the states. The keys of the inner dictionary are the possible actions and the values are the **successor state**, $s'$, for that transition.  \n",
    "\n",
    "In each state, there are four possible actions the robot can take:\n",
    "- up, u\n",
    "- down, d,\n",
    "- left, l\n",
    "- right, r\n",
    "\n",
    "The TD RL agent has no model for the environment. Therefore, beyond these allowed actions, all other information is encapsulated in the environment and is unobservable by the agent. This is the key difference between reinforcement learning and dynamic programming. "
   ]
  },
  {
   "cell_type": "code",
   "execution_count": 2,
   "metadata": {},
   "outputs": [],
   "source": [
    "## import numpy for latter\n",
    "import numpy as np\n",
    "import numpy.random as nr\n",
    "import pandas as pd\n",
    "\n",
    "## Define the transition dictonary of dictionaries:\n",
    "neighbors = {0:{'u':0, 'd':0, 'l':0, 'r':0},\n",
    "          1:{'u':1, 'd':5, 'l':0, 'r':2},\n",
    "          2:{'u':2, 'd':6, 'l':1, 'r':3},\n",
    "          3:{'u':3, 'd':7, 'l':2, 'r':3},\n",
    "          4:{'u':0, 'd':8, 'l':4, 'r':5},\n",
    "          5:{'u':1, 'd':9, 'l':4, 'r':6},\n",
    "          6:{'u':2, 'd':10, 'l':5, 'r':7},\n",
    "          7:{'u':3, 'd':11, 'l':6, 'r':7},\n",
    "          8:{'u':4, 'd':12, 'l':8, 'r':9},\n",
    "          9:{'u':5, 'd':13, 'l':8, 'r':10},\n",
    "          10:{'u':6, 'd':14, 'l':9, 'r':11},\n",
    "          11:{'u':7, 'd':15, 'l':10, 'r':11},\n",
    "          12:{'u':8, 'd':12, 'l':12, 'r':13},\n",
    "          13:{'u':9, 'd':13, 'l':12, 'r':14},\n",
    "          14:{'u':10, 'd':14, 'l':13, 'r':15},\n",
    "          15:{'u':11, 'd':15, 'l':14, 'r':15}}"
   ]
  },
  {
   "cell_type": "markdown",
   "metadata": {},
   "source": [
    "To simulate the environment, we need a reward structure. In this case, the robot receives the following rewards:   \n",
    "\n",
    "- 10 for entering position 0. \n",
    "- -1 for attempting to leave the grid. In other words, we penalize the robot for hitting the edges of the grid.  \n",
    "- -0.1 for all other state transitions, which is the cost for the robot to move from one state to another. If we did not have this penalty, the robot could follow any random plan to the goal which did not hit the edges. \n",
    "\n",
    "This **reward structure is unknown to the TD RL agent**. The agent must **learn** the rewards by sampling the environment. Here the rewards are in the form of action values.    \n",
    "\n",
    "We encode these rewards in the same type of dictionary structure used for the foregoing structures. "
   ]
  },
  {
   "cell_type": "code",
   "execution_count": 3,
   "metadata": {},
   "outputs": [],
   "source": [
    "rewards = {0:{'u':10.0, 'd':10.0, 'l':10.0, 'r':10.0},\n",
    "          1:{'u':-1, 'd':-0.1, 'l':10.0, 'r':-0.1},\n",
    "          2:{'u':-1.0, 'd':-0.1, 'l':-0.1, 'r':-0.1},\n",
    "          3:{'u':-1.0, 'd':-0.1, 'l':-0.1, 'r':-1.0},\n",
    "          4:{'u':10.0, 'd':-0.1, 'l':-1.0, 'r':-0.1},\n",
    "          5:{'u':-0.1, 'd':-0.1, 'l':-0.1, 'r':-0.1},\n",
    "          6:{'u':-0.1, 'd':-0.1, 'l':-0.1, 'r':-0.1},\n",
    "          7:{'u':-0.1, 'd':-0.1, 'l':-0.1, 'r':-1.0},\n",
    "          8:{'u':-0.1, 'd':-0.1, 'l':-1.0, 'r':-0.1},\n",
    "          9:{'u':-0.1, 'd':-0.1, 'l':-0.1, 'r':-0.1},\n",
    "          10:{'u':-0.1, 'd':-0.1, 'l':-0.1, 'r':-0.1},\n",
    "          11:{'u':-0.1, 'd':-0.1, 'l':-0.1, 'r':-1.0},\n",
    "          12:{'u':-0.1, 'd':-1.0, 'l':-1.0, 'r':-0.1},\n",
    "          13:{'u':-0.1, 'd':-1.0, 'l':-0.1, 'r':-0.1},\n",
    "          14:{'u':-0.1, 'd':-1.0, 'l':-0.1, 'r':-0.1},\n",
    "          15:{'u':-0.1, 'd':-1.0, 'l':-0.1, 'r':-1.0}}"
   ]
  },
  {
   "cell_type": "markdown",
   "metadata": {},
   "source": [
    "As was done previously, we will use an environment simulator. The function is called with a state and action. It returns the next state, 's_prime' and 'reward'. \n",
    "\n",
    "To simplify the rest of the code in this notebook we are treating the dictionaries as global. In general, this would be considered poor programming practice. \n",
    "\n",
    "Execute the code in the cell below and observe the results from the test cases. "
   ]
  },
  {
   "cell_type": "code",
   "execution_count": 4,
   "metadata": {},
   "outputs": [
    {
     "name": "stdout",
     "output_type": "stream",
     "text": [
      "(1, -1, False)\n",
      "(5, -0.1, False)\n",
      "(2, -0.1, False)\n",
      "(0, 10.0, True)\n"
     ]
    }
   ],
   "source": [
    "def simulate_environment(s, action, neighbors = neighbors, rewards = rewards, terminal = 0):\n",
    "    \"\"\"\n",
    "    Function simulates the environment\n",
    "    returns s_prime and reward given s and action\n",
    "    \"\"\"\n",
    "    s_prime = neighbors[s][action]\n",
    "    reward = rewards[s][action]\n",
    "    return (s_prime, reward, is_terminal(s_prime, terminal))\n",
    "\n",
    "def is_terminal(state, terminal = 0):\n",
    "    return state == terminal\n",
    "\n",
    "## Test the function\n",
    "for a in ['u', 'd', 'r', 'l']:\n",
    "    print(simulate_environment(1, a))"
   ]
  },
  {
   "cell_type": "markdown",
   "metadata": {},
   "source": [
    "### TD(0) Policy Evaluation\n",
    "\n",
    "We have everything in place to perform TD(0) policy evaluation for the grid world. The code in the cell below implements the TD(0) algorithm and applies it to the policy in the grid world. Notice that the algorithm makes calls to the aforementioned `state_values` function to find information on successor state and rewards for a transition given a current state and action. Execute this code and examine the results. "
   ]
  },
  {
   "cell_type": "code",
   "execution_count": 5,
   "metadata": {},
   "outputs": [],
   "source": [
    "initial_policy = {0:{'u':0.25, 'd':0.25, 'l':0.25, 'r':0.25},\n",
    "                        1:{'u':0.25, 'd':0.25, 'l':0.25, 'r':0.25}, \n",
    "                        2:{'u':0.25, 'd':0.25, 'l':0.25, 'r':0.25},\n",
    "                        3:{'u':0.25, 'd':0.25, 'l':0.25, 'r':0.25},\n",
    "                        4:{'u':0.25, 'd':0.25, 'l':0.25, 'r':0.25},\n",
    "                        5:{'u':0.25, 'd':0.25, 'l':0.25, 'r':0.25},\n",
    "                        6:{'u':0.25, 'd':0.25, 'l':0.25, 'r':0.25},\n",
    "                        7:{'u':0.25, 'd':0.25, 'l':0.25, 'r':0.25},\n",
    "                        8:{'u':0.25, 'd':0.25, 'l':0.25, 'r':0.25},\n",
    "                        9:{'u':0.25, 'd':0.25, 'l':0.25, 'r':0.25},\n",
    "                        10:{'u':0.25, 'd':0.25, 'l':0.25, 'r':0.25},\n",
    "                        11:{'u':0.25, 'd':0.25, 'l':0.25, 'r':0.25},\n",
    "                        12:{'u':0.25, 'd':0.25, 'l':0.25, 'r':0.25},\n",
    "                        13:{'u':0.25, 'd':0.25, 'l':0.25, 'r':0.25},\n",
    "                        14:{'u':0.25, 'd':0.25, 'l':0.25, 'r':0.25},\n",
    "                        15:{'u':0.25, 'd':0.25, 'l':0.25, 'r':0.25}}"
   ]
  },
  {
   "cell_type": "code",
   "execution_count": 6,
   "metadata": {},
   "outputs": [
    {
     "data": {
      "text/plain": [
       "[4, 11, 7, 13, 5, 13, 7, 6, 9, 13]"
      ]
     },
     "execution_count": 6,
     "metadata": {},
     "output_type": "execute_result"
    }
   ],
   "source": [
    "def start_episode(n_states):\n",
    "    '''Function to find a random starting value for the episode\n",
    "    that is not the terminal state'''\n",
    "    state = nr.choice(range(n_states))\n",
    "    while(is_terminal(state)):\n",
    "         state = nr.choice(range(n_states))\n",
    "    return state\n",
    "\n",
    "## test the function to make sure never starting in terminal state\n",
    "[start_episode(15) for _ in range(10)]"
   ]
  },
  {
   "cell_type": "code",
   "execution_count": 7,
   "metadata": {},
   "outputs": [
    {
     "name": "stdout",
     "output_type": "stream",
     "text": [
      "('r', 0, 10.0, True)\n",
      "('u', 1, -1, False)\n",
      "('r', 3, -0.1, False)\n",
      "('r', 3, -1.0, False)\n",
      "('u', 0, 10.0, True)\n",
      "('d', 9, -0.1, False)\n",
      "('d', 10, -0.1, False)\n",
      "('r', 7, -1.0, False)\n",
      "('r', 9, -0.1, False)\n",
      "('d', 13, -0.1, False)\n",
      "('l', 9, -0.1, False)\n",
      "('u', 7, -0.1, False)\n",
      "('u', 8, -0.1, False)\n",
      "('r', 14, -0.1, False)\n",
      "('d', 14, -1.0, False)\n",
      "('r', 15, -1.0, False)\n"
     ]
    }
   ],
   "source": [
    "def take_action(state, policy, actions = {1:'u', 2:'d', 3:'l', 4:'r'}):\n",
    "    '''Function takes action given state using the transition probabilities \n",
    "    of the policy'''\n",
    "    ## Find the action given the transistion probabilities defined by the policy.\n",
    "    action = actions[nr.choice(range(len(actions)), p = list(policy[state].values())) + 1]\n",
    "    s_prime, reward, terminal = simulate_environment(state, action)\n",
    "    return (action, s_prime, reward, terminal)\n",
    "\n",
    "## Test function for several states\n",
    "for s in range(16):\n",
    "    print(take_action(s, initial_policy))"
   ]
  },
  {
   "cell_type": "code",
   "execution_count": 8,
   "metadata": {},
   "outputs": [
    {
     "data": {
      "text/plain": [
       "array([[ 0.        ,  3.12849836, -1.82705152, -5.50432579],\n",
       "       [ 8.53480046,  4.12611267, -1.40212593, -4.34533336],\n",
       "       [-0.59950133, -1.72037924, -2.92492442, -4.11526655],\n",
       "       [-1.02858767, -2.47706822, -3.18863242, -4.42734827]])"
      ]
     },
     "execution_count": 8,
     "metadata": {},
     "output_type": "execute_result"
    }
   ],
   "source": [
    "def td_0_state_values(policy, n_samps, alpha = 0.2, gamma = 1.0):\n",
    "    \"\"\"\n",
    "    Function for TD(0) policy evalutation\n",
    "    \"\"\"\n",
    "    \n",
    "    ## Find the starting state\n",
    "    n_states = len(policy)\n",
    "    current_state = start_episode(n_states)\n",
    "    terminal = False\n",
    "    \n",
    "    ## Array for state values\n",
    "    v = np.zeros((n_states,1))\n",
    "    \n",
    "    for _ in range(n_samps):\n",
    "        ## Find the next action and reward\n",
    "        action, s_prime, reward, terminal = take_action(current_state, policy)\n",
    "        ## Compute the TD error\n",
    "        delta = reward + gamma*v[s_prime] - v[current_state]\n",
    "        ## Update the state value\n",
    "        v[current_state] = v[current_state] + alpha*delta\n",
    "        current_state = s_prime\n",
    "        if(terminal): ## start new episode when terminal\n",
    "            current_state = start_episode(n_states)\n",
    "    return(v)\n",
    "\n",
    "td_0_state_values(initial_policy, 2000).reshape((4,4))        "
   ]
  },
  {
   "cell_type": "markdown",
   "metadata": {},
   "source": [
    "## One Step SARSA Algorithm\n",
    "\n",
    "Now that we have examined the one step TD(0) algorithm for policy (value) evaluation, we need to define a one step algorithm for **control** or **policy improvement**.     \n",
    "\n",
    "The **state action reward state action** or **SARSA** algorithm is an **on policy** method which uses time differencing to evaluate action values. As you might imagine from the name, this algorithm starts with an **on policy** action from the current state which results in a state transition and a reward. The backup diagram for one step SARSA (SARSA(0)) is shown in the figure below. \n",
    "\n",
    "<img src=\"img/SARSA.JPG\" alt=\"Drawing\" style=\"width:75px; height:150px\"/>\n",
    "<center> **Backup Diagram for SARSA(0)** </center>\n",
    "\n",
    "Compare the backup diagram for SARSA(0) to the one for TD(0) notice that the order of state and action are reversed between the two algorithms. This realization is a good way to understand the difference. \n",
    "\n",
    "The update equation for SARSA(0) is as follows:\n",
    "\n",
    "$$Q(S_t,A_t) = Q(S_t,A_t) + \\alpha \\big[ R_{t+1} + \\gamma Q(S_{t+1},A_{t+1}) - Q(S_t,A_t) \\big]$$  \n",
    "\n",
    "Where,   \n",
    "$\\delta_t = R_{t+1} + \\gamma Q(S_{t+1},A_{t+1}) - Q(S_t,A_t) = $ the error term,   \n",
    "$Q(S_t,A_t) = $ is the action value in state S given action A,  \n",
    "$R_{t+1} = $ is the reward for the next time step,   \n",
    "$\\alpha = $ the learning rate,   \n",
    "$\\gamma = $ discount factor.  "
   ]
  },
  {
   "cell_type": "markdown",
   "metadata": {},
   "source": [
    "### SARSA(0) Example\n",
    "\n",
    "The code in the cell below implements the SARSA(0) algorithm to compute the action values for the Grid world given an policy. As with the policy evaluation code, this code makes calls to the environment t find successor states and rewards given actions. The function `select_a_prime` queries the environment to receive the successor state and reward given the current state and action. The successor action is computed following the policy. Additional details on this algorithm can be seen by reading the code comments.  \n",
    "\n",
    "Execute this code to compute and print the action values for the random walk policy.     "
   ]
  },
  {
   "cell_type": "code",
   "execution_count": 9,
   "metadata": {
    "scrolled": false
   },
   "outputs": [
    {
     "name": "stdout",
     "output_type": "stream",
     "text": [
      "           up       down       left      right\n",
      "0    0.000000   0.000000   0.000000   0.000000\n",
      "1   -7.090948  -7.392408  -3.281626  -9.206936\n",
      "2   -9.863449  -8.218322  -6.184021 -10.288570\n",
      "3  -10.726097 -10.281495  -7.870960  -9.975844\n",
      "4    1.751396  -8.301206  -5.281380  -7.805032\n",
      "5   -7.009895  -8.474744  -5.083382  -9.362918\n",
      "6   -8.997440  -9.378234  -5.781014  -9.962890\n",
      "7   -9.652863  -9.946876  -8.743159 -10.391690\n",
      "8   -6.614689  -9.254437  -9.859436  -8.938033\n",
      "9   -7.585611  -9.058730  -8.646935  -9.237246\n",
      "10  -8.430582  -9.536814  -8.431117 -10.079994\n",
      "11  -9.545938 -10.890243  -9.070798 -10.897359\n",
      "12  -7.983761  -9.969406 -10.636777  -9.099776\n",
      "13  -8.429416 -10.003879  -9.545658  -9.804464\n",
      "14  -9.581129 -10.767716  -9.361177 -10.671838\n",
      "15 -10.412798 -11.672943  -9.471698 -11.236659\n"
     ]
    }
   ],
   "source": [
    "def print_Q(Q):\n",
    "    Q = pd.DataFrame(Q, columns = ['up', 'down', 'left', 'right'])\n",
    "    print(Q)\n",
    "\n",
    "def new_episode(n_states, policy):\n",
    "    '''This function provides a start for a TD\n",
    "    episode making sure the first transition is not \n",
    "    the termnal state'''\n",
    "    current_state = start_episode(n_states)\n",
    "    ## Find fist action and reward\n",
    "    action, s_prime, reward, terminal = take_action(current_state, policy)\n",
    "    return(current_state, action, s_prime, reward, terminal)    \n",
    "\n",
    "\n",
    "def SARSA_0(policy, n_samps, alpha = 0.1, gamma = 0.9, action_index = {'u':0, 'd':1, 'l':2, 'r':3}):\n",
    "    \"\"\"\n",
    "    Function for TD(0) policy evalutation\n",
    "    \"\"\"\n",
    "    \n",
    "    ## Find the starting state\n",
    "    n_states = len(policy)\n",
    "    current_state, action, s_prime, reward, terminal = new_episode(n_states, policy)\n",
    "    action_idx = action_index[action]\n",
    "    \n",
    "    ## Array for state values\n",
    "    q = np.zeros((n_states, len(policy[0])))\n",
    "    \n",
    "    for _ in range(n_samps):\n",
    "        ## Find the next action and reward\n",
    "        action_prime, s_prime_prime, reward_prime, terminal_prime = take_action(s_prime, policy)\n",
    "        action_idx_prime = action_index[action_prime]\n",
    "        ## Compute the TD error\n",
    "        delta = reward + gamma*q[s_prime, action_idx_prime] - q[current_state, action_idx]\n",
    "        ## Update the action values\n",
    "        q[current_state, action_idx] = q[current_state, action_idx] + alpha*delta\n",
    "        ## Update the state, action and reward for the next time step\n",
    "        current_state = s_prime\n",
    "        s_prime = s_prime_prime\n",
    "        action = action_prime\n",
    "        reward = reward_prime\n",
    "        terminal = terminal_prime\n",
    "        action_idx = action_idx_prime\n",
    "\n",
    "        ## Check if end of episode\n",
    "        if(terminal): \n",
    "            ## start new episode\n",
    "            current_state, action, s_prime, reward, terminal = new_episode(n_states, policy)        \n",
    "    return(q)\n",
    "\n",
    "\n",
    "Q = SARSA_0(initial_policy, 20000, alpha = 0.2, gamma = 0.99)\n",
    "print_Q(Q)"
   ]
  },
  {
   "cell_type": "markdown",
   "metadata": {},
   "source": [
    "The arrays printed above display the action values for each state. The four arrays represent the four possible actions, up, down, left and right. "
   ]
  },
  {
   "cell_type": "markdown",
   "metadata": {},
   "source": [
    "### GPI with SARSA(0)\n",
    "\n",
    "The code in the cell below performs **general policy improvement (GPI)** using SARSA(0) to evaluate action values. Several cycles of SARSA(0) and policy improvement are performed with this code. Notice that policy improvement is $\\epsilon$-greedy. The probability of any state transition will never go to zero, allowing continued exploration. Additional details on this algorithm can be seen by reading the code comments.  \n",
    "\n",
    "Execute this code and examine the results.  "
   ]
  },
  {
   "cell_type": "code",
   "execution_count": 10,
   "metadata": {},
   "outputs": [
    {
     "data": {
      "text/plain": [
       "{0: {'d': 0.25, 'l': 0.25, 'r': 0.25, 'u': 0.25},\n",
       " 1: {'d': 0.1, 'l': 0.7, 'r': 0.1, 'u': 0.1},\n",
       " 2: {'d': 0.1, 'l': 0.7, 'r': 0.1, 'u': 0.1},\n",
       " 3: {'d': 0.1, 'l': 0.7, 'r': 0.1, 'u': 0.1},\n",
       " 4: {'d': 0.1, 'l': 0.1, 'r': 0.1, 'u': 0.7},\n",
       " 5: {'d': 0.1, 'l': 0.7, 'r': 0.1, 'u': 0.1},\n",
       " 6: {'d': 0.1, 'l': 0.7, 'r': 0.1, 'u': 0.1},\n",
       " 7: {'d': 0.1, 'l': 0.7, 'r': 0.1, 'u': 0.1},\n",
       " 8: {'d': 0.1, 'l': 0.1, 'r': 0.1, 'u': 0.7},\n",
       " 9: {'d': 0.1, 'l': 0.1, 'r': 0.1, 'u': 0.7},\n",
       " 10: {'d': 0.1, 'l': 0.1, 'r': 0.1, 'u': 0.7},\n",
       " 11: {'d': 0.1, 'l': 0.7, 'r': 0.1, 'u': 0.1},\n",
       " 12: {'d': 0.1, 'l': 0.1, 'r': 0.1, 'u': 0.7},\n",
       " 13: {'d': 0.1, 'l': 0.1, 'r': 0.1, 'u': 0.7},\n",
       " 14: {'d': 0.1, 'l': 0.7, 'r': 0.1, 'u': 0.1},\n",
       " 15: {'d': 0.1, 'l': 0.7, 'r': 0.1, 'u': 0.1}}"
      ]
     },
     "execution_count": 10,
     "metadata": {},
     "output_type": "execute_result"
    }
   ],
   "source": [
    "def update_policy(policy, Q, epsilon, action_index = {'u':0, 'd':1, 'l':2, 'r':3}):\n",
    "    '''Updates the policy based on estiamtes of Q using \n",
    "    an epslion greedy algorithm. The action with the highest\n",
    "    action value is used.'''\n",
    "    \n",
    "    ## Find the keys for the actions in the policy\n",
    "    keys = list(policy[0].keys())\n",
    "    \n",
    "    ## Iterate over the states and find the maximm action value.\n",
    "    for state in range(len(policy)):\n",
    "        ## First find the index of the max Q values  \n",
    "        q = Q[state,:]\n",
    "        max_action_index = np.where(q == max(q))[0]\n",
    "\n",
    "        ## Find the probabilities for the transitions\n",
    "        n_transitions = float(len(q))\n",
    "        n_max_transitions = float(len(max_action_index))\n",
    "        p_max_transitions = (1.0 - epsilon *(n_transitions - n_max_transitions))/(n_max_transitions)\n",
    "  \n",
    "        ## Now assign the probabilities to the policy as epsilon greedy.\n",
    "        for key in keys:\n",
    "            if(action_index[key] in max_action_index): policy[state][key] = p_max_transitions\n",
    "            else: policy[state][key] = epsilon\n",
    "    return(policy)                \n",
    "\n",
    "update_policy(initial_policy, Q, 0.1)    "
   ]
  },
  {
   "cell_type": "code",
   "execution_count": 11,
   "metadata": {
    "scrolled": false
   },
   "outputs": [
    {
     "name": "stdout",
     "output_type": "stream",
     "text": [
      "{'u': 0.25, 'd': 0.25, 'l': 0.25, 'r': 0.25}\n",
      "{'u': 0.1, 'd': 0.1, 'l': 0.4, 'r': 0.4}\n",
      "{'u': 0.1, 'd': 0.3, 'l': 0.3, 'r': 0.3}\n",
      "{'u': 0.1, 'd': 0.1, 'l': 0.7, 'r': 0.1}\n",
      "{'u': 0.1, 'd': 0.1, 'l': 0.4, 'r': 0.4}\n",
      "{'u': 0.4, 'd': 0.1, 'l': 0.4, 'r': 0.1}\n",
      "{'u': 0.3, 'd': 0.3, 'l': 0.1, 'r': 0.3}\n",
      "{'u': 0.1, 'd': 0.1, 'l': 0.7, 'r': 0.1}\n",
      "{'u': 0.1, 'd': 0.4, 'l': 0.4, 'r': 0.1}\n",
      "{'u': 0.1, 'd': 0.1, 'l': 0.1, 'r': 0.7}\n",
      "{'u': 0.3, 'd': 0.3, 'l': 0.1, 'r': 0.3}\n",
      "{'u': 0.1, 'd': 0.1, 'l': 0.7, 'r': 0.1}\n",
      "{'u': 0.25, 'd': 0.25, 'l': 0.25, 'r': 0.25}\n",
      "{'u': 0.3, 'd': 0.3, 'l': 0.3, 'r': 0.1}\n",
      "{'u': 0.1, 'd': 0.7, 'l': 0.1, 'r': 0.1}\n",
      "{'u': 0.7, 'd': 0.1, 'l': 0.1, 'r': 0.1}\n"
     ]
    }
   ],
   "source": [
    "def SARSA_GPI(policy, n_samples, n_cycles, epsilon = 0.1, n_actions = 4):\n",
    "    '''Function perfoms GPI using Monte Carlo value estimation.\n",
    "    Updates to policy are epsilon greedy to prevent the algorithm\n",
    "    from being trapped at some point.'''\n",
    "    Q = np.zeros((len(policy), n_actions))\n",
    "    ## Iterate over the required number of cycles\n",
    "    for _ in range(n_cycles):\n",
    "        Q = SARSA_0(policy, n_samples, alpha = 0.2, gamma = 0.99)\n",
    "        policy = update_policy(policy, Q, epsilon = epsilon)\n",
    "    return(policy)\n",
    "\n",
    "improved_policy = SARSA_GPI(initial_policy, 100, 50, epsilon = 0.1)  \n",
    "for state in range(16):\n",
    "    print(improved_policy[state])"
   ]
  },
  {
   "cell_type": "markdown",
   "metadata": {},
   "source": [
    "## N-Step Time Differencing\n",
    "\n",
    "In the previous lesson we examined Monte Carlo RL which requires that each episode reach a terminal state before a value or action value estimate can be made. In the first part of this lesson we have focused on one-step time differencing, TD, algorithms which update estimates at each time step. Now, we will look at algorithms between these two extreme cases, n-step time differencing algorithms. \n",
    "\n",
    "We can generalize the concept of the one-step bootstrapping of the return starting with TD(0):\n",
    "\n",
    "$$G_{t:t+1} = R_{t+1} + \\gamma V_{t}(S_{t+1})$$\n",
    "\n",
    "Here, $V_{t}(S_{t+1})$ is being bootstrapped. \n",
    "\n",
    "We can extend this formulation to two-step TD as follows:\n",
    "\n",
    "$$G_{t:t+2} = R_{t+1} + \\gamma R_{t+2} + \\gamma^2 V_{t+1}(S_{t+2})$$\n",
    "\n",
    "In the above it is $V_{t+1}(S_{t+2})$ being bootstrapped. \n",
    "\n",
    "For n-step TD the return is computed by the following bootstrap formulation. \n",
    "\n",
    "$$G_{t:t+n} = R_{t+1} + \\gamma R_{t+2} + \\ldots + \\gamma^{n-1} R_{t+n} + \\gamma^n V_{t+n-1}(S_{t+n})$$\n",
    "\n",
    "Regardless of home many steps are used to compute the return, the value update is:\n",
    "\n",
    "$$V_{t+n}(S_t) = V_{t+n-1}(S_t) + \\alpha \\big[ G_{t:t+n} - V_{t+n-1}(S_t) \\big],\\ 0 \\leq t < T]$$\n",
    "\n",
    "Where $\\delta_t = G_{t:t+n} - V_{t+n-1}(S_t) = $ the n-step TD error.\n",
    "\n",
    "The resulting backup diagrams for general TD(n) is shown in the diagram below. \n",
    "\n",
    "<img src=\"img/TDN.JPG\" alt=\"Drawing\" style=\"width:400px; height:350px\"/>\n",
    "<center> **Backup Diagram for n-step TD** </center>\n",
    "\n",
    "From Left to right you can see how the backup diagram adds more states and actions. On the extreme right the backup diagram for the MC algorithm is shown. Notice that MC RL does not bootstrap, but samples until the terminal state is reached. \n",
    "\n",
    "N-step TD methods are generally considered to have two advantages over single-step methods:\n",
    "1. N-step methods generally have better convergence properties. \n",
    "2. N-step methods break the link between time between actions and time when bootstraping occurs.   "
   ]
  },
  {
   "cell_type": "markdown",
   "metadata": {},
   "source": [
    "### Example of TD(n) for Policy Evaluation\n",
    "\n",
    "The code in the cell below implements TD(n) policy evaluation. As you can see, the bookkeeping is a bit involved. We must account for the cases where fewer than n steps have been executed at the start of an episode or when the terminal state has been reached. You can find further details of the algorithm by reading the code comments. \n",
    "\n",
    "Execute this code for n=4 and examine the results."
   ]
  },
  {
   "cell_type": "code",
   "execution_count": 18,
   "metadata": {},
   "outputs": [
    {
     "data": {
      "text/plain": [
       "array([[ 0.        ,  1.10097907,  0.0307256 ,  0.03935424],\n",
       "       [ 0.79821957,  0.04972357,  0.01469927,  0.01804622],\n",
       "       [-0.05170275, -0.04406076, -0.07678868, -0.02527795],\n",
       "       [-0.26048885, -0.08404403, -0.13731032, -0.08649932]])"
      ]
     },
     "execution_count": 18,
     "metadata": {},
     "output_type": "execute_result"
    }
   ],
   "source": [
    "def TD_n(policy, episodes, n, alpha = 0.2, gamma = 0.9, epsilon = 0.1, action_index = {'u':0, 'd':1, 'l':2, 'r':3}):\n",
    "    \"\"\"\n",
    "    Function to perform TD(N) policy evaluation.\n",
    "    \"\"\"\n",
    "    ## Initialize the state list and action values\n",
    "#    action_index = list(range(len(list(policy[0].keys()))))\n",
    "    states = list(policy.keys())\n",
    "    n_states = len(states)\n",
    "    n_actions = len(policy[0].keys())\n",
    "    v = np.zeros((n_states))\n",
    "    \n",
    "    for _ in range(episodes):\n",
    "        ## Initialize variables\n",
    "        T = float(\"inf\")\n",
    "        tau = 0\n",
    "        t = 0\n",
    "        rewards = []\n",
    "       \n",
    "        ## Get the random initial state\n",
    "        current_state = start_episode(n_states)   \n",
    "        state = [current_state]\n",
    "        ## Initial action\n",
    "        action, s_prime, reward, terminal = take_action(current_state, policy)\n",
    "        state.append(s_prime)\n",
    "        \n",
    "        while(not (tau == T - 1)):\n",
    "            if(t < T):\n",
    "                ## Append the reward to the list\n",
    "                rewards.append(reward)             \n",
    "                if(terminal): \n",
    "                    ## update T if at terminal state\n",
    "                    T = t + 1\n",
    "                else: \n",
    "                    ## Get the next action state and rewards\n",
    "                    action_prime, s_prime_prime, reward_prime, terminal_prime = take_action(current_state, policy)\n",
    "                    state.append(s_prime_prime)\n",
    "                      \n",
    "            ## Update tau\n",
    "            tau = t - n + 1\n",
    "            \n",
    "            if(tau > 0):\n",
    "                G = 0.0\n",
    "                for i in range(tau + 1, min(tau + n, T)):\n",
    "                    exponent = i + tau - 1\n",
    "                    G = G + gamma**exponent * rewards[i]\n",
    "                if(tau + n < T): G += gamma**n * v[state[tau + n]] \n",
    "                v[state[tau]] = v[state[tau]] + alpha * (G - v[state[tau]])    \n",
    "                \n",
    "            \n",
    "            ## Update variables for the next step\n",
    "            t += 1\n",
    "            current_state = s_prime\n",
    "            if(not terminal):\n",
    "                action = action_prime\n",
    "                s_prime = s_prime_prime\n",
    "                reward = reward_prime\n",
    "                terminal = terminal_prime\n",
    "    return(v)     \n",
    "\n",
    "TD_n(initial_policy, 5000, 2).reshape((4,4))"
   ]
  },
  {
   "cell_type": "markdown",
   "metadata": {},
   "source": [
    "## N-step SARSA for control\n",
    "\n",
    "Just as we used SARSA(0) for the control or policy improvement, we can generalize this algorithm to the n-step case. This is the SARSA(n) algorithm.  \n",
    "\n",
    "The n-step return is computed by the following bootstrap formulation. \n",
    "\n",
    "$$G_{t:t+n} = R_{t+1} + \\gamma R_{t+2} + \\ldots + \\gamma^{n-1} R_{t+n} + \\gamma^n Q_{t+n-1}(S_{t+n}, A_{t+n}),\\ n \\geq 1, 0 \\leq t < T-n$$\n",
    "\n",
    "Using this return, the action value update becomes:\n",
    "\n",
    "$$Q_{t+n}(S_t, A_t) = Q_{t+n-1}(S_t, A_t) + \\alpha \\big[ G_{t:t+n} - Q_{t+n-1}(S_t,A_t) \\big],\\ 0 \\leq t < T]$$\n",
    "\n",
    "Where $\\delta_t =  G_{t:t+n} - Q_{t+n-1}(S_t,A_t) = $ the n-step error.\n",
    "\n",
    "Backup diagrams for n-step SARSA are shown in the figure below. These backups reverse the order of state and action when compared to the n-step TD prediction algorithm discussed above. \n",
    "\n",
    "<img src=\"img/SARSAN.JPG\" alt=\"Drawing\" style=\"width:400px; height:350px\"/>\n",
    "<center> **Backup Diagram for n-step SARSA** </center>"
   ]
  },
  {
   "cell_type": "markdown",
   "metadata": {},
   "source": [
    "### Example of N-Step SARSA\n",
    "\n",
    "The code in the cell below implements the n-step SARSA algorithm. As is the case for the n-step TD algorithm, the bookkeeping is a bit involved. We must account for the cases where fewer than n steps have been executed at the start of an episode or when the terminal state has been reached. You can find further details of the algorithm by reading the code comments.\n",
    "\n",
    "Execute this code for n=4 and examine the results."
   ]
  },
  {
   "cell_type": "code",
   "execution_count": 19,
   "metadata": {
    "scrolled": true
   },
   "outputs": [
    {
     "name": "stdout",
     "output_type": "stream",
     "text": [
      "          up      down      left     right\n",
      "0   0.000000  0.000000  0.000000  0.000000\n",
      "1   0.141320  0.103913  0.855775  0.130070\n",
      "2  -0.030657 -0.017061  0.187621 -0.031551\n",
      "3  -0.166286 -0.072017  0.058689 -0.052174\n",
      "4   0.293961 -0.063622 -0.109355 -0.030917\n",
      "5   0.468225 -0.032449 -0.027423 -0.023846\n",
      "6   0.035717 -0.060341  0.052138 -0.061221\n",
      "7  -0.051274 -0.071146 -0.011777 -0.143799\n",
      "8   0.028571 -0.144445 -0.371939 -0.024281\n",
      "9   0.102676 -0.123266 -0.075106 -0.031474\n",
      "10 -0.012113 -0.089232 -0.010760 -0.069996\n",
      "11 -0.062281 -0.088824 -0.061122 -0.087608\n",
      "12 -0.099629 -0.197050 -0.279843 -0.120958\n",
      "13 -0.060121 -0.221853 -0.132355 -0.083485\n",
      "14 -0.043886 -0.064086 -0.127841 -0.120852\n",
      "15 -0.070785 -0.194579 -0.069664 -0.175928\n"
     ]
    }
   ],
   "source": [
    "def SARSA_n(policy, episodes, n, alpha = 0.2, gamma = 0.9, epsilon = 0.1, action_index = {'u':0, 'd':1, 'l':2, 'r':3}):\n",
    "    \"\"\"\n",
    "    Function to perform TD(N) policy evaluation.\n",
    "    \"\"\"\n",
    "    ## Initialize the state list and action values\n",
    "#    action_index = list(range(len(list(policy[0].keys()))))\n",
    "    states = list(policy.keys())\n",
    "    n_states = len(states)\n",
    "    n_actions = len(policy[0].keys())\n",
    "    q = np.zeros((n_states, n_actions))\n",
    "    \n",
    "    for _ in range(episodes):\n",
    "        ## Initialize variables\n",
    "        T = float(\"inf\")\n",
    "        tau = 0\n",
    "        t = 0\n",
    "        rewards = []\n",
    "       \n",
    "        ## Get the random initial state\n",
    "        current_state = start_episode(n_states)   \n",
    "        state = [current_state]\n",
    "        ## Initial action\n",
    "        action, s_prime, reward, terminal = take_action(current_state, policy)\n",
    "        state.append(s_prime)\n",
    "        \n",
    "        while(not (tau == T - 1)):\n",
    "            if(t < T):\n",
    "                ## Append the reward to the list\n",
    "                rewards.append(reward)             \n",
    "                if(terminal): \n",
    "                    ## update T if at terminal state\n",
    "                    T = t + 1\n",
    "                else: \n",
    "                    ## Get the next action state and rewards\n",
    "                    action_prime, s_prime_prime, reward_prime, terminal_prime = take_action(current_state, policy)\n",
    "                    state.append(s_prime_prime)\n",
    "                      \n",
    "            ## Update tau\n",
    "            tau = t - n + 1\n",
    "            \n",
    "            if(tau > 0):\n",
    "                G = 0.0\n",
    "                for i in range(tau + 1, min(tau + n, T)):\n",
    "                    exponent = i + tau - 1\n",
    "                    G = G + gamma**exponent * rewards[i]\n",
    "                if(tau + n < T): G += gamma**n * q[state[tau + n], action_index[action_prime]] \n",
    "                q[state[tau], action_index[action]] = q[state[tau], action_index[action]] + alpha * (G - q[state[tau], action_index[action]])    \n",
    "                \n",
    "            \n",
    "            ## Update variables for the next step\n",
    "            t += 1\n",
    "            current_state = s_prime\n",
    "            if(not terminal):\n",
    "                action = action_prime\n",
    "                s_prime = s_prime_prime\n",
    "                reward = reward_prime\n",
    "                terminal = terminal_prime\n",
    "    return(q)              \n",
    "            \n",
    "Q = SARSA_n(initial_policy, 1000, 2)\n",
    "print_Q(Q)"
   ]
  },
  {
   "cell_type": "code",
   "execution_count": 20,
   "metadata": {},
   "outputs": [
    {
     "name": "stdout",
     "output_type": "stream",
     "text": [
      "{'u': 0.25, 'd': 0.25, 'l': 0.25, 'r': 0.25}\n",
      "{'u': 0.1, 'd': 0.1, 'l': 0.7, 'r': 0.1}\n",
      "{'u': 0.1, 'd': 0.1, 'l': 0.7, 'r': 0.1}\n",
      "{'u': 0.1, 'd': 0.1, 'l': 0.7, 'r': 0.1}\n",
      "{'u': 0.7, 'd': 0.1, 'l': 0.1, 'r': 0.1}\n",
      "{'u': 0.7, 'd': 0.1, 'l': 0.1, 'r': 0.1}\n",
      "{'u': 0.1, 'd': 0.1, 'l': 0.7, 'r': 0.1}\n",
      "{'u': 0.1, 'd': 0.1, 'l': 0.7, 'r': 0.1}\n",
      "{'u': 0.7, 'd': 0.1, 'l': 0.1, 'r': 0.1}\n",
      "{'u': 0.7, 'd': 0.1, 'l': 0.1, 'r': 0.1}\n",
      "{'u': 0.1, 'd': 0.1, 'l': 0.7, 'r': 0.1}\n",
      "{'u': 0.1, 'd': 0.1, 'l': 0.7, 'r': 0.1}\n",
      "{'u': 0.7, 'd': 0.1, 'l': 0.1, 'r': 0.1}\n",
      "{'u': 0.7, 'd': 0.1, 'l': 0.1, 'r': 0.1}\n",
      "{'u': 0.7, 'd': 0.1, 'l': 0.1, 'r': 0.1}\n",
      "{'u': 0.1, 'd': 0.1, 'l': 0.7, 'r': 0.1}\n"
     ]
    }
   ],
   "source": [
    "improved_policy = update_policy(initial_policy, Q, 0.1) \n",
    "for state in range(16):\n",
    "    print(improved_policy[state])"
   ]
  },
  {
   "cell_type": "code",
   "execution_count": 14,
   "metadata": {},
   "outputs": [
    {
     "data": {
      "text/plain": [
       "array([[0.        , 2.63969849, 1.78933519, 1.06444613],\n",
       "       [0.66124227, 0.68596245, 2.01477059, 0.22805499],\n",
       "       [3.31668986, 1.72310537, 1.51997658, 0.50563337],\n",
       "       [1.11460711, 1.52031072, 0.61343308, 0.5906463 ]])"
      ]
     },
     "execution_count": 14,
     "metadata": {},
     "output_type": "execute_result"
    }
   ],
   "source": [
    "TD_n(improved_policy, 2000, 4).reshape((4,4))"
   ]
  },
  {
   "cell_type": "markdown",
   "metadata": {},
   "source": [
    "### GPI with N-step SARSA\n",
    "\n",
    "The code in the cell below executes the GPI algorithm using n-step SARSA to evaluate the action values. Details of the algorithm can be found by reading the code comments. \n",
    "\n",
    "Execute the code using 50 cycles of 100 episodes and 4-step SARSA and examine the results. "
   ]
  },
  {
   "cell_type": "code",
   "execution_count": 15,
   "metadata": {
    "scrolled": false
   },
   "outputs": [
    {
     "ename": "NameError",
     "evalue": "name 'policy' is not defined",
     "output_type": "error",
     "traceback": [
      "\u001b[1;31m---------------------------------------------------------------------------\u001b[0m",
      "\u001b[1;31mNameError\u001b[0m                                 Traceback (most recent call last)",
      "\u001b[1;32m<ipython-input-15-57902efac5a0>\u001b[0m in \u001b[0;36m<module>\u001b[1;34m()\u001b[0m\n\u001b[0;32m     34\u001b[0m \u001b[1;33m\u001b[0m\u001b[0m\n\u001b[0;32m     35\u001b[0m \u001b[1;33m\u001b[0m\u001b[0m\n\u001b[1;32m---> 36\u001b[1;33m \u001b[0mSARSA_N_Policy\u001b[0m \u001b[1;33m=\u001b[0m \u001b[0mSARSA_n_GPI\u001b[0m\u001b[1;33m(\u001b[0m\u001b[0mpolicy\u001b[0m\u001b[1;33m,\u001b[0m \u001b[0mn\u001b[0m \u001b[1;33m=\u001b[0m \u001b[1;36m4\u001b[0m\u001b[1;33m,\u001b[0m \u001b[0mcycles\u001b[0m \u001b[1;33m=\u001b[0m \u001b[1;36m5\u001b[0m\u001b[1;33m,\u001b[0m \u001b[0mepisodes\u001b[0m \u001b[1;33m=\u001b[0m \u001b[1;36m1000\u001b[0m\u001b[1;33m,\u001b[0m \u001b[0mgoal\u001b[0m \u001b[1;33m=\u001b[0m \u001b[1;36m0\u001b[0m\u001b[1;33m,\u001b[0m \u001b[0malpha\u001b[0m \u001b[1;33m=\u001b[0m \u001b[1;36m0.2\u001b[0m\u001b[1;33m,\u001b[0m \u001b[0mepsilon\u001b[0m \u001b[1;33m=\u001b[0m \u001b[1;36m0.1\u001b[0m\u001b[1;33m)\u001b[0m\u001b[1;33m\u001b[0m\u001b[0m\n\u001b[0m\u001b[0;32m     37\u001b[0m \u001b[0mSARSA_N_Policy\u001b[0m\u001b[1;33m\u001b[0m\u001b[0m\n",
      "\u001b[1;31mNameError\u001b[0m: name 'policy' is not defined"
     ]
    }
   ],
   "source": [
    "def SARSA_n_GPI(policy, n, cycles, episodes, goal, alpha = 0.2, gamma = 0.9, epsilon = 0.1):\n",
    "    ## iterate over GPI cycles\n",
    "    current_policy = copy.deepcopy(policy)\n",
    "    for _ in range(cycles):\n",
    "        ## Evaluate policy with SARSA\n",
    "        Q = SARSA_n(policy, episodes, n, goal = goal, alpha = alpha, gamma = gamma, epsilon = epsilon)\n",
    "        \n",
    "        for s in list(current_policy.keys()): # iterate over all states\n",
    "            ## Find the index action with the largest Q values \n",
    "            ## May be more than one. \n",
    "            max_index = np.where(Q[:,s] == max(Q[:,s]))[0]\n",
    "            \n",
    "            ## Probabilities of transition\n",
    "            ## Need to allow for further exploration so don't let any \n",
    "            ## transition probability be 0.\n",
    "            ## Some gymnastics are required to ensure that the probabilities \n",
    "            ## over the transistions actual add to exactly 1.0\n",
    "            neighbors_len = float(Q.shape[0])\n",
    "            max_len = float(len(max_index))\n",
    "            diff = round(neighbors_len - max_len,3)\n",
    "            prob_for_policy = round(1.0/max_len,3)\n",
    "            adjust = round((epsilon * (diff)), 3)\n",
    "            prob_for_policy = prob_for_policy - adjust\n",
    "            if(diff != 0.0):\n",
    "                remainder = (1.0 - max_len * prob_for_policy)/diff\n",
    "            else:\n",
    "                remainder = epsilon\n",
    "                                                 \n",
    "            for i, key in enumerate(current_policy[s]): ## Update policy\n",
    "                if(i in max_index): current_policy[s][key] = prob_for_policy\n",
    "                else: current_policy[s][key] = remainder   \n",
    "                    \n",
    "    return(current_policy)                    \n",
    " \n",
    "\n",
    "SARSA_N_Policy = SARSA_n_GPI(policy, n = 4, cycles = 5, episodes = 1000, goal = 0, alpha = 0.2, epsilon = 0.1)\n",
    "SARSA_N_Policy"
   ]
  },
  {
   "cell_type": "markdown",
   "metadata": {},
   "source": [
    "Now, execute the code in the cell below to evaluate the policy you have just computed using the n-step TD algorithm with n = 4. "
   ]
  },
  {
   "cell_type": "code",
   "execution_count": null,
   "metadata": {},
   "outputs": [],
   "source": [
    "np.array(TD_n(SARSA_N_Policy, episodes = 1000, n = 4, goal = 0, alpha = 0.2, gamma = 0.9)).reshape((4,4))"
   ]
  },
  {
   "cell_type": "markdown",
   "metadata": {},
   "source": [
    "## N-Step Off-Policy Learning with Importance Sampling\n",
    "\n",
    "For n-step off-policy learning we update a target policy $\\pi(A_t|S_t)$ using samples from a behavior policy $b(A_t|S_t)$. Since the two policies differ, the probabilities of an action given the state will undoubtedly differ. For example, the behavior policy can be exploratory whereas, the target policy is greedy. \n",
    "\n",
    "To account for the different probabilities of sampling we reweight by the **importance sampling ratio**. For an n-step algorithm at time step $t$ the importance sampling ratio can be expressed as:\n",
    "\n",
    "$$\\rho_{t:t + n -1} = \\prod_{k=\\tau}^{min(t + n -1,T-1)} \\frac{\\pi(A_k|S_k)}{b(A_k|S_k)}$$\n",
    "\n",
    "The n-step TD update then becomes:\n",
    "\n",
    "$$V_{t+n}(S_t) = V_{t+n-1}(S_t) + \\alpha\\ \\rho_{t:t+n-1} \\big[ G_{t:t+n} - V_{t+n-1}(S_t) \\big],\\ 0 \\leq t < T]$$\n",
    "\n",
    "And the SARSA update becomes:\n",
    "\n",
    "$$Q_{t+n}(S_t, A_t) = Q_{t+n-1}(S_t, A_t) + \\alpha\\ \\rho_{t:t+n-1} \\big[ G_{t:t+n} - Q_{t+n-1}(S_t,A_t) \\big],\\ 0 \\leq t < T]$$\n",
    "\n",
    "For both of the above update equations consider the effect of importance sampling ratio. If the action given state is more likely under the target policy that the behavior policy, more weight is given to updating with the error term. However, If the action given state is less likely under the target policy that the behavior policy, less weight is given to updating with the error term. In this way, the weighting by the importance sampling ratio gives the correct updates for the target policy regardless of the transition probabilities of the behavior policy. \n",
    "\n",
    "> **NOte:** Considerably more detail on n-step off-policy RL algorithms can be found in Sutton and Barto, second edition, Sections 7.3, 7.4 and 7.5. "
   ]
  },
  {
   "cell_type": "markdown",
   "metadata": {},
   "source": [
    "#### Copyright 2018, Stephen F Elston. All rights reserved. "
   ]
  }
 ],
 "metadata": {
  "kernelspec": {
   "display_name": "Python 3",
   "language": "python",
   "name": "python3"
  },
  "language_info": {
   "codemirror_mode": {
    "name": "ipython",
    "version": 3
   },
   "file_extension": ".py",
   "mimetype": "text/x-python",
   "name": "python",
   "nbconvert_exporter": "python",
   "pygments_lexer": "ipython3",
   "version": "3.6.4"
  }
 },
 "nbformat": 4,
 "nbformat_minor": 2
}
